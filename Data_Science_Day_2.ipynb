{
 "cells": [
  {
   "cell_type": "markdown",
   "metadata": {},
   "source": [
    "# Questions 1"
   ]
  },
  {
   "cell_type": "code",
   "execution_count": 8,
   "metadata": {},
   "outputs": [
    {
     "name": "stdout",
     "output_type": "stream",
     "text": [
      "Enter Number20\n",
      "Enter Number32\n",
      "Even number are [20, 32]\n"
     ]
    }
   ],
   "source": [
    "l1=[]\n",
    "for i in range(2):\n",
    "    a=int(input('Enter Number'))\n",
    "    if a%2==0:\n",
    "        l1.append(a)\n",
    "print(\"Even number are\",l1)"
   ]
  },
  {
   "cell_type": "markdown",
   "metadata": {},
   "source": [
    "# Questions 2"
   ]
  },
  {
   "cell_type": "code",
   "execution_count": 14,
   "metadata": {},
   "outputs": [
    {
     "name": "stdout",
     "output_type": "stream",
     "text": [
      "[0, 2, 4, 6, 8, 10, 12, 14, 16, 18]\n",
      "[0, 4, 8, 12, 16, 20, 24, 28, 32, 36, 40, 44, 48, 52, 56, 60, 64, 68, 72, 76, 80, 84, 88, 92, 96]\n",
      "['Even', 'Odd', 'Even', 'Odd', 'Even', 'Odd', 'Even', 'Odd', 'Even', 'Odd']\n"
     ]
    }
   ],
   "source": [
    "#  List Comprehension\n",
    "num_lis1=[i for i in range(20) if i%2==0]\n",
    "print(num_lis)\n",
    "num_lis2 = [y for y in range(100) if y % 2 == 0 if y % 4 == 0]\n",
    "print(num_lis2)\n",
    "num_lis3=[\"Even\" if i%2==0 else \"Odd\" for i in range(10)]\n",
    "print(num_lis3)"
   ]
  },
  {
   "cell_type": "markdown",
   "metadata": {},
   "source": [
    "# Questions 3"
   ]
  },
  {
   "cell_type": "code",
   "execution_count": 23,
   "metadata": {},
   "outputs": [
    {
     "name": "stdout",
     "output_type": "stream",
     "text": [
      "Input 10\n",
      "('1', 1)\n",
      "('2', 4)\n",
      "('3', 9)\n",
      "('4', 16)\n",
      "('5', 25)\n",
      "('6', 36)\n",
      "('7', 49)\n",
      "('8', 64)\n",
      "('9', 81)\n"
     ]
    }
   ],
   "source": [
    "n=int(input('Input: '))\n",
    "dic={}\n",
    "for i in range(1,n):\n",
    "    dic[f\"{i}\"] = i*i\n",
    "for i in dic.items():\n",
    "    print(i)"
   ]
  },
  {
   "cell_type": "markdown",
   "metadata": {},
   "source": [
    "# Questions 4"
   ]
  },
  {
   "cell_type": "code",
   "execution_count": 26,
   "metadata": {},
   "outputs": [
    {
     "name": "stdout",
     "output_type": "stream",
     "text": [
      "Input: 4\n",
      "UP 5\n",
      "DOWN 3\n",
      "LEFT 3\n",
      "RIGHT 2\n",
      "2\n"
     ]
    }
   ],
   "source": [
    "n=int(input('Input: '))\n",
    "pos={\"x\":0,\"y\":0}\n",
    "for i in range (n):\n",
    "    direc_stp=input().split(\" \")     \n",
    "    if direc_stp[0] == \"UP\":             \n",
    "        pos[\"y\"] += int(direc_stp[1])    \n",
    "    if direc_stp[0] == \"DOWN\":\n",
    "        pos[\"y\"] -= int(direc_stp[1])\n",
    "    if direc_stp[0] == \"LEFT\":\n",
    "        pos[\"x\"] -= int(direc_stp[1])\n",
    "    if direc_stp[0] == \"RIGHT\":\n",
    "        pos[\"x\"] += int(direc_stp[1])\n",
    "print(int(round((pos[\"x\"]**2 + pos[\"y\"]**2)**0.5)))"
   ]
  },
  {
   "cell_type": "code",
   "execution_count": null,
   "metadata": {},
   "outputs": [],
   "source": []
  }
 ],
 "metadata": {
  "kernelspec": {
   "display_name": "Python 3",
   "language": "python",
   "name": "python3"
  },
  "language_info": {
   "codemirror_mode": {
    "name": "ipython",
    "version": 3
   },
   "file_extension": ".py",
   "mimetype": "text/x-python",
   "name": "python",
   "nbconvert_exporter": "python",
   "pygments_lexer": "ipython3",
   "version": "3.7.6"
  }
 },
 "nbformat": 4,
 "nbformat_minor": 4
}
