{
 "cells": [
  {
   "cell_type": "markdown",
   "metadata": {},
   "source": [
    "# Questions 1"
   ]
  },
  {
   "cell_type": "code",
   "execution_count": 1,
   "metadata": {},
   "outputs": [
    {
     "name": "stdout",
     "output_type": "stream",
     "text": [
      "[ 2  5  8 11 14 17 20 23 26 29 32 35 38 41 44 47]\n"
     ]
    }
   ],
   "source": [
    "import numpy as np\n",
    "arr=np.array(range(2,50,3))\n",
    "print(arr)"
   ]
  },
  {
   "cell_type": "markdown",
   "metadata": {},
   "source": [
    "# Questions 2"
   ]
  },
  {
   "cell_type": "code",
   "execution_count": 2,
   "metadata": {},
   "outputs": [
    {
     "name": "stdout",
     "output_type": "stream",
     "text": [
      "Enter 5 elements without space : 12345\n",
      "Enter 5 elements without space : 23456\n",
      "Concatenate Array  [0 1 2 3 4 0 1 2 3 4]\n",
      "Sort Array  [0 0 1 1 2 2 3 3 4 4]\n"
     ]
    }
   ],
   "source": [
    "lst1 = []\n",
    "lst2=[]\n",
    "n = int(input(\"Enter 5 elements without space : \")) \n",
    "for i in range(0,5): \n",
    "    lst1.append(int(i))\n",
    "n = int(input(\"Enter 5 elements without space : \")) \n",
    "for j in range(0,5): \n",
    "    lst2.append(int(j))      \n",
    "arr1=np.array(lst1)\n",
    "arr2=np.array(lst2)\n",
    "concat_arr=np.concatenate([arr1,arr2])\n",
    "sort_arr=np.sort(concat_arr)\n",
    "print(\"Concatenate Array \",concat_arr)\n",
    "print(\"Sort Array \",sort_arr)"
   ]
  },
  {
   "cell_type": "markdown",
   "metadata": {},
   "source": [
    "# Questions 3"
   ]
  },
  {
   "cell_type": "code",
   "execution_count": null,
   "metadata": {},
   "outputs": [],
   "source": [
    "a = np.array([[[1,2,3],[1,2,3]],[[12,3,4],[2,1,3]]])\n",
    "print(\"dimensions = \",len(a.shape))\n",
    "print(a.size)"
   ]
  },
  {
   "cell_type": "markdown",
   "metadata": {},
   "source": [
    "# Questions 4"
   ]
  },
  {
   "cell_type": "code",
   "execution_count": 18,
   "metadata": {},
   "outputs": [
    {
     "name": "stdout",
     "output_type": "stream",
     "text": [
      "2\n"
     ]
    }
   ],
   "source": [
    "lis=[1,9,3,9,4,1,3,5,8,2,3,10]\n",
    "one_d=np.array(lis)\n",
    "two_d=one_d.reshape(3,4)\n",
    "print(len(two_d.shape))"
   ]
  },
  {
   "cell_type": "markdown",
   "metadata": {},
   "source": [
    "# Questions 5"
   ]
  },
  {
   "cell_type": "code",
   "execution_count": 25,
   "metadata": {},
   "outputs": [
    {
     "name": "stdout",
     "output_type": "stream",
     "text": [
      "[[ 9 25  4]\n",
      " [49  9 36]\n",
      " [ 4  9 81]\n",
      " [ 4 16 64]]\n",
      "[[ 9 25  4  4  9 81]\n",
      " [49  9 36  4 16 64]]\n"
     ]
    }
   ],
   "source": [
    "a = np.array([[9,25,4],[49,9,36]])\n",
    "b = np.array([[4,9,81],[4,16,64]])\n",
    "print(np.vstack((a, b)))\n",
    "print(np.hstack((a,b)))"
   ]
  },
  {
   "cell_type": "markdown",
   "metadata": {},
   "source": [
    "# Questions 6"
   ]
  },
  {
   "cell_type": "code",
   "execution_count": 24,
   "metadata": {},
   "outputs": [
    {
     "name": "stdout",
     "output_type": "stream",
     "text": [
      "[[1 3]\n",
      " [2 1]\n",
      " [3 1]\n",
      " [4 2]]\n"
     ]
    }
   ],
   "source": [
    "lis= np.array([1, 1, 2, 3, 4, 4, 1])\n",
    "(unique,counts)=np.unique(lis,return_counts=True)\n",
    "frequencies = np.asarray((unique, counts)).T\n",
    "print(frequencies)"
   ]
  },
  {
   "cell_type": "code",
   "execution_count": null,
   "metadata": {},
   "outputs": [],
   "source": []
  }
 ],
 "metadata": {
  "kernelspec": {
   "display_name": "Python 3",
   "language": "python",
   "name": "python3"
  },
  "language_info": {
   "codemirror_mode": {
    "name": "ipython",
    "version": 3
   },
   "file_extension": ".py",
   "mimetype": "text/x-python",
   "name": "python",
   "nbconvert_exporter": "python",
   "pygments_lexer": "ipython3",
   "version": "3.7.6"
  }
 },
 "nbformat": 4,
 "nbformat_minor": 4
}
